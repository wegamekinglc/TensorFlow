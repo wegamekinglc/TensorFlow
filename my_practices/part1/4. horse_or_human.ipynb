{
 "cells": [
  {
   "cell_type": "code",
   "execution_count": 1,
   "metadata": {},
   "outputs": [],
   "source": [
    "%config IPCompleter.greedy = True"
   ]
  },
  {
   "cell_type": "code",
   "execution_count": 2,
   "metadata": {},
   "outputs": [],
   "source": [
    "import tensorflow as tf\n",
    "from tensorflow import keras\n",
    "from matplotlib import pyplot as plt\n",
    "import numpy as np\n",
    "\n",
    "physical_devices = tf.config.list_physical_devices('GPU') \n",
    "tf.config.experimental.set_memory_growth(physical_devices[0], True)"
   ]
  },
  {
   "cell_type": "code",
   "execution_count": 3,
   "metadata": {},
   "outputs": [],
   "source": [
    "train_datagen = keras.preprocessing.image.ImageDataGenerator(rescale=1./255.)\n",
    "validation_datagen = keras.preprocessing.image.ImageDataGenerator(rescale=1./255.)"
   ]
  },
  {
   "cell_type": "code",
   "execution_count": 4,
   "metadata": {},
   "outputs": [
    {
     "name": "stdout",
     "output_type": "stream",
     "text": [
      "Found 1029 images belonging to 2 classes.\n",
      "Found 256 images belonging to 2 classes.\n"
     ]
    }
   ],
   "source": [
    "train_generator = train_datagen.flow_from_directory(directory=\"../../TensorFlow数据集下载/tensorflow_datasets/horse-or-human/\",\n",
    "                                                    target_size=(200, 200),\n",
    "                                                    batch_size=32,\n",
    "                                                    class_mode=\"binary\")\n",
    "\n",
    "validation_generator = train_datagen.flow_from_directory(directory=\"../../TensorFlow数据集下载/tensorflow_datasets/validation-horse-or-human\",\n",
    "                                                    target_size=(200, 200),\n",
    "                                                    batch_size=32,\n",
    "                                                    class_mode=\"binary\")"
   ]
  },
  {
   "cell_type": "code",
   "execution_count": 5,
   "metadata": {},
   "outputs": [],
   "source": [
    "model = keras.Sequential([\n",
    "    keras.layers.Conv2D(16, (3, 3), activation=\"relu\", input_shape=(300, 300, 3)),\n",
    "    keras.layers.MaxPool2D(2, 2),\n",
    "    keras.layers.Conv2D(32, (3, 3), activation=\"relu\"),\n",
    "    keras.layers.MaxPool2D(2, 2),\n",
    "    keras.layers.Conv2D(64, (3, 3), activation=\"relu\"),\n",
    "    keras.layers.MaxPool2D(2, 2),\n",
    "    keras.layers.Flatten(),\n",
    "    keras.layers.Dense(512, activation=\"relu\"),\n",
    "    keras.layers.Dense(1, activation=\"sigmoid\")\n",
    "])"
   ]
  },
  {
   "cell_type": "code",
   "execution_count": 6,
   "metadata": {},
   "outputs": [
    {
     "name": "stdout",
     "output_type": "stream",
     "text": [
      "Model: \"sequential\"\n",
      "_________________________________________________________________\n",
      "Layer (type)                 Output Shape              Param #   \n",
      "=================================================================\n",
      "conv2d (Conv2D)              (None, 298, 298, 16)      448       \n",
      "_________________________________________________________________\n",
      "max_pooling2d (MaxPooling2D) (None, 149, 149, 16)      0         \n",
      "_________________________________________________________________\n",
      "conv2d_1 (Conv2D)            (None, 147, 147, 32)      4640      \n",
      "_________________________________________________________________\n",
      "max_pooling2d_1 (MaxPooling2 (None, 73, 73, 32)        0         \n",
      "_________________________________________________________________\n",
      "conv2d_2 (Conv2D)            (None, 71, 71, 64)        18496     \n",
      "_________________________________________________________________\n",
      "max_pooling2d_2 (MaxPooling2 (None, 35, 35, 64)        0         \n",
      "_________________________________________________________________\n",
      "flatten (Flatten)            (None, 78400)             0         \n",
      "_________________________________________________________________\n",
      "dense (Dense)                (None, 512)               40141312  \n",
      "_________________________________________________________________\n",
      "dense_1 (Dense)              (None, 1)                 513       \n",
      "=================================================================\n",
      "Total params: 40,165,409\n",
      "Trainable params: 40,165,409\n",
      "Non-trainable params: 0\n",
      "_________________________________________________________________\n"
     ]
    }
   ],
   "source": [
    "model.summary()"
   ]
  },
  {
   "cell_type": "code",
   "execution_count": 7,
   "metadata": {},
   "outputs": [],
   "source": [
    "model.compile(optimizer=keras.optimizers.RMSprop(lr=0.001),\n",
    "              loss=keras.losses.binary_crossentropy,\n",
    "              metrics=[\"accuracy\"])"
   ]
  },
  {
   "cell_type": "code",
   "execution_count": 8,
   "metadata": {},
   "outputs": [
    {
     "name": "stdout",
     "output_type": "stream",
     "text": [
      "Epoch 1/10\n",
      "33/33 [==============================] - 12s 265ms/step - loss: 3.4721 - accuracy: 0.6511 - val_loss: 0.7180 - val_accuracy: 0.8711\n",
      "Epoch 2/10\n",
      "33/33 [==============================] - 7s 217ms/step - loss: 0.1026 - accuracy: 0.9597 - val_loss: 2.2914 - val_accuracy: 0.7773\n",
      "Epoch 3/10\n",
      "33/33 [==============================] - 7s 208ms/step - loss: 0.0536 - accuracy: 0.9785 - val_loss: 6.0584 - val_accuracy: 0.7266\n",
      "Epoch 4/10\n",
      "33/33 [==============================] - 7s 209ms/step - loss: 0.9886 - accuracy: 0.9077 - val_loss: 2.2816 - val_accuracy: 0.8125\n",
      "Epoch 5/10\n",
      "33/33 [==============================] - 7s 206ms/step - loss: 0.0365 - accuracy: 0.9886 - val_loss: 2.3962 - val_accuracy: 0.8164\n",
      "Epoch 6/10\n",
      "33/33 [==============================] - 7s 205ms/step - loss: 0.0018 - accuracy: 1.0000 - val_loss: 3.6614 - val_accuracy: 0.7695\n",
      "Epoch 7/10\n",
      "33/33 [==============================] - 7s 205ms/step - loss: 0.2989 - accuracy: 0.9754 - val_loss: 7.0193 - val_accuracy: 0.7539\n",
      "Epoch 8/10\n",
      "33/33 [==============================] - 7s 207ms/step - loss: 7.5106e-05 - accuracy: 1.0000 - val_loss: 7.4858 - val_accuracy: 0.7578\n",
      "Epoch 9/10\n",
      "33/33 [==============================] - 7s 206ms/step - loss: 7.5611e-06 - accuracy: 1.0000 - val_loss: 8.0247 - val_accuracy: 0.7500\n",
      "Epoch 10/10\n",
      "33/33 [==============================] - 7s 207ms/step - loss: 3.2985e-06 - accuracy: 1.0000 - val_loss: 7.8825 - val_accuracy: 0.7812\n"
     ]
    },
    {
     "data": {
      "text/plain": [
       "<tensorflow.python.keras.callbacks.History at 0x19e86b37970>"
      ]
     },
     "execution_count": 8,
     "metadata": {},
     "output_type": "execute_result"
    }
   ],
   "source": [
    "model.fit(train_generator, epochs=10, verbose=1, validation_data=validation_generator, validation_steps=8)"
   ]
  },
  {
   "cell_type": "code",
   "execution_count": 12,
   "metadata": {},
   "outputs": [],
   "source": [
    "from kerastuner.tuners import Hyperband\n",
    "from kerastuner.engine.hyperparameters import HyperParameters"
   ]
  },
  {
   "cell_type": "code",
   "execution_count": 20,
   "metadata": {},
   "outputs": [],
   "source": [
    "def build_model(hp):\n",
    "    model = keras.Sequential()\n",
    "    model.add(keras.layers.Conv2D(hp.Choice(\"num_filters_layer0\", values=[16, 32, 64], default=16),\n",
    "                                  (2, 2), activation=\"relu\", input_shape=(200, 200, 3)))\n",
    "    model.add(keras.layers.MaxPool2D(2, 2))\n",
    "    for i in range(hp.Int(\"num_cov_layers\", 1, 5)):\n",
    "        model.add(keras.layers.Conv2D(hp.Choice(f\"num_filters_layer{i+1}\", values=[16, 32, 64], default=16), (2, 2), activation=\"relu\"))\n",
    "        model.add(keras.layers.MaxPool2D(2, 2))\n",
    "    model.add(keras.layers.Flatten())\n",
    "    model.add(keras.layers.Dense(hp.Int(\"hidden_units\", 128, 512, step=32), activation=\"relu\"))\n",
    "    model.add(keras.layers.Dense(1, activation=\"sigmoid\"))\n",
    "    model.compile(optimizer=keras.optimizers.Adam(),\n",
    "                  loss=keras.losses.binary_crossentropy,\n",
    "                  metrics=[\"accuracy\"])\n",
    "    return model"
   ]
  },
  {
   "cell_type": "code",
   "execution_count": 21,
   "metadata": {},
   "outputs": [],
   "source": [
    "hp = HyperParameters()\n",
    "tuner = Hyperband(build_model,\n",
    "                  objective=\"val_accuracy\",\n",
    "                  max_epochs=30,\n",
    "                  directory=\"horse_human_params\",\n",
    "                  hyperparameters=hp,\n",
    "                  project_name=\"my_horse_human_project\")"
   ]
  },
  {
   "cell_type": "code",
   "execution_count": 22,
   "metadata": {},
   "outputs": [
    {
     "name": "stdout",
     "output_type": "stream",
     "text": [
      "Trial 90 Complete [00h 02m 57s]\n",
      "val_accuracy: 0.8203125\n",
      "\n",
      "Best val_accuracy So Far: 0.90234375\n",
      "Total elapsed time: 01h 00m 26s\n",
      "INFO:tensorflow:Oracle triggered exit\n"
     ]
    }
   ],
   "source": [
    "tuner.search(train_generator, epochs=20, verbose=1, validation_data=validation_generator, validation_steps=8)"
   ]
  },
  {
   "cell_type": "code",
   "execution_count": 23,
   "metadata": {},
   "outputs": [
    {
     "name": "stdout",
     "output_type": "stream",
     "text": [
      "{'num_filters_layer0': 64, 'num_cov_layers': 5, 'num_filters_layer1': 16, 'hidden_units': 288, 'num_filters_layer2': 16, 'num_filters_layer3': 64, 'num_filters_layer4': 64, 'tuner/epochs': 30, 'tuner/initial_epoch': 10, 'tuner/bracket': 3, 'tuner/round': 3, 'num_filters_layer5': 16, 'tuner/trial_id': '2c36313f4acd3e22dcf77077199e4527'}\n",
      "Model: \"sequential\"\n",
      "_________________________________________________________________\n",
      "Layer (type)                 Output Shape              Param #   \n",
      "=================================================================\n",
      "conv2d (Conv2D)              (None, 199, 199, 64)      832       \n",
      "_________________________________________________________________\n",
      "max_pooling2d (MaxPooling2D) (None, 99, 99, 64)        0         \n",
      "_________________________________________________________________\n",
      "conv2d_1 (Conv2D)            (None, 98, 98, 16)        4112      \n",
      "_________________________________________________________________\n",
      "max_pooling2d_1 (MaxPooling2 (None, 49, 49, 16)        0         \n",
      "_________________________________________________________________\n",
      "conv2d_2 (Conv2D)            (None, 48, 48, 16)        1040      \n",
      "_________________________________________________________________\n",
      "max_pooling2d_2 (MaxPooling2 (None, 24, 24, 16)        0         \n",
      "_________________________________________________________________\n",
      "conv2d_3 (Conv2D)            (None, 23, 23, 64)        4160      \n",
      "_________________________________________________________________\n",
      "max_pooling2d_3 (MaxPooling2 (None, 11, 11, 64)        0         \n",
      "_________________________________________________________________\n",
      "conv2d_4 (Conv2D)            (None, 10, 10, 64)        16448     \n",
      "_________________________________________________________________\n",
      "max_pooling2d_4 (MaxPooling2 (None, 5, 5, 64)          0         \n",
      "_________________________________________________________________\n",
      "conv2d_5 (Conv2D)            (None, 4, 4, 16)          4112      \n",
      "_________________________________________________________________\n",
      "max_pooling2d_5 (MaxPooling2 (None, 2, 2, 16)          0         \n",
      "_________________________________________________________________\n",
      "flatten (Flatten)            (None, 64)                0         \n",
      "_________________________________________________________________\n",
      "dense (Dense)                (None, 288)               18720     \n",
      "_________________________________________________________________\n",
      "dense_1 (Dense)              (None, 1)                 289       \n",
      "=================================================================\n",
      "Total params: 49,713\n",
      "Trainable params: 49,713\n",
      "Non-trainable params: 0\n",
      "_________________________________________________________________\n"
     ]
    }
   ],
   "source": [
    "best_hps = tuner.get_best_hyperparameters(30)[0]\n",
    "print(best_hps.values)\n",
    "model = tuner.hypermodel.build(best_hps)\n",
    "model.summary()"
   ]
  },
  {
   "cell_type": "code",
   "execution_count": 24,
   "metadata": {},
   "outputs": [
    {
     "name": "stdout",
     "output_type": "stream",
     "text": [
      "Epoch 1/10\n",
      "33/33 [==============================] - 14s 392ms/step - loss: 0.6451 - accuracy: 0.6408 - val_loss: 0.5419 - val_accuracy: 0.8438\n",
      "Epoch 2/10\n",
      "33/33 [==============================] - 6s 177ms/step - loss: 0.2825 - accuracy: 0.8977 - val_loss: 0.8845 - val_accuracy: 0.8477\n",
      "Epoch 3/10\n",
      "33/33 [==============================] - 6s 177ms/step - loss: 0.2023 - accuracy: 0.9268 - val_loss: 0.9789 - val_accuracy: 0.8281\n",
      "Epoch 4/10\n",
      "33/33 [==============================] - 6s 178ms/step - loss: 0.1547 - accuracy: 0.9294 - val_loss: 0.9244 - val_accuracy: 0.8086\n",
      "Epoch 5/10\n",
      "33/33 [==============================] - 6s 178ms/step - loss: 0.1251 - accuracy: 0.9534 - val_loss: 1.6446 - val_accuracy: 0.8164\n",
      "Epoch 6/10\n",
      "33/33 [==============================] - 6s 178ms/step - loss: 0.1217 - accuracy: 0.9529 - val_loss: 1.2380 - val_accuracy: 0.8594\n",
      "Epoch 7/10\n",
      "33/33 [==============================] - 7s 208ms/step - loss: 0.0756 - accuracy: 0.9753 - val_loss: 0.7850 - val_accuracy: 0.8789\n",
      "Epoch 8/10\n",
      "33/33 [==============================] - 6s 180ms/step - loss: 0.0564 - accuracy: 0.9782 - val_loss: 1.3902 - val_accuracy: 0.8633\n",
      "Epoch 9/10\n",
      "33/33 [==============================] - 6s 179ms/step - loss: 0.0467 - accuracy: 0.9869 - val_loss: 1.3896 - val_accuracy: 0.8438\n",
      "Epoch 10/10\n",
      "33/33 [==============================] - 6s 186ms/step - loss: 0.0238 - accuracy: 0.9932 - val_loss: 1.0304 - val_accuracy: 0.8398\n"
     ]
    },
    {
     "data": {
      "text/plain": [
       "<tensorflow.python.keras.callbacks.History at 0x24144bd8070>"
      ]
     },
     "execution_count": 24,
     "metadata": {},
     "output_type": "execute_result"
    }
   ],
   "source": [
    "model.compile(optimizer=keras.optimizers.RMSprop(lr=0.001),\n",
    "              loss=keras.losses.binary_crossentropy,\n",
    "              metrics=[\"accuracy\"])\n",
    "model.fit(train_generator, epochs=10, verbose=1, validation_data=validation_generator)"
   ]
  },
  {
   "cell_type": "code",
   "execution_count": 11,
   "metadata": {},
   "outputs": [
    {
     "data": {
      "text/plain": [
       "[<kerastuner.engine.hyperparameters.HyperParameters at 0x220c8497b80>]"
      ]
     },
     "execution_count": 11,
     "metadata": {},
     "output_type": "execute_result"
    }
   ],
   "source": [
    "best_hps"
   ]
  },
  {
   "cell_type": "code",
   "execution_count": null,
   "metadata": {},
   "outputs": [],
   "source": []
  }
 ],
 "metadata": {
  "kernelspec": {
   "display_name": "Python [conda env:root] *",
   "language": "python",
   "name": "conda-root-py"
  },
  "language_info": {
   "codemirror_mode": {
    "name": "ipython",
    "version": 3
   },
   "file_extension": ".py",
   "mimetype": "text/x-python",
   "name": "python",
   "nbconvert_exporter": "python",
   "pygments_lexer": "ipython3",
   "version": "3.8.5"
  }
 },
 "nbformat": 4,
 "nbformat_minor": 4
}
